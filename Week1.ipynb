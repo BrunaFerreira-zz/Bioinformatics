{
 "cells": [
  {
   "cell_type": "code",
   "execution_count": 1,
   "metadata": {
    "collapsed": true
   },
   "outputs": [],
   "source": [
    "#Autor: Bruna Ferreira\n",
    "#Course:Finding Hidden Messages in DNA \n",
    "#Specialization: Bioinformatics I - Coursera"
   ]
  },
  {
   "cell_type": "code",
   "execution_count": 2,
   "metadata": {
    "collapsed": true
   },
   "outputs": [],
   "source": [
    "import pandas as pd\n",
    "import numpy as np"
   ]
  },
  {
   "cell_type": "markdown",
   "metadata": {},
   "source": [
    "## PatternCount "
   ]
  },
  {
   "cell_type": "markdown",
   "metadata": {},
   "source": [
    "<b>Code Challenge:</b> Implement PatternCount (reproduced below).<br/>\n",
    "    <b>Input:</b> Strings Text and Pattern.<br/>\n",
    "    <b>Output:</b> Count(Text, Pattern).<br/>"
   ]
  },
  {
   "cell_type": "markdown",
   "metadata": {},
   "source": [
    "    PatternCount(Text, Pattern)\n",
    "        count ← 0\n",
    "        for i ← 0 to |Text| − |Pattern|\n",
    "            if Text(i, |Pattern|) = Pattern\n",
    "                count ← count + 1\n",
    "        return count"
   ]
  },
  {
   "cell_type": "code",
   "execution_count": 3,
   "metadata": {
    "collapsed": true
   },
   "outputs": [],
   "source": [
    "def PatternCount(Text,Pattern):\n",
    "    count = 0\n",
    "    len_sub = len(Pattern)\n",
    "    for i in range (len(Text)):\n",
    "        if Text [i:i+len_sub] == Pattern:\n",
    "            count = count +1\n",
    "    return count\n"
   ]
  },
  {
   "cell_type": "code",
   "execution_count": 4,
   "metadata": {},
   "outputs": [
    {
     "data": {
      "text/plain": [
       "2"
      ]
     },
     "execution_count": 4,
     "metadata": {},
     "output_type": "execute_result"
    }
   ],
   "source": [
    "# Example\n",
    "text = 'GCGCG'\n",
    "pattern = 'GCG'\n",
    "out= 2\n",
    "PatternCount(text,pattern)"
   ]
  },
  {
   "cell_type": "markdown",
   "metadata": {
    "collapsed": true
   },
   "source": [
    "## Frequent Words Problem"
   ]
  },
  {
   "cell_type": "markdown",
   "metadata": {},
   "source": [
    "<b>Code Challenge:</b> Solve the Frequent Words Problem.<br/>\n",
    "\n",
    "<b>Input:</b> A string Text and an integer k.<br/>\n",
    "<b>Output:</b> All most frequent k-mers in Text.<br/>"
   ]
  },
  {
   "cell_type": "markdown",
   "metadata": {},
   "source": [
    "    FrequentWords(Text, k)\n",
    "        FrequentPatterns ← an empty set\n",
    "        for i ← 0 to |Text| − k\n",
    "            Pattern ← the k-mer Text(i, k)\n",
    "            Count(i) ← PatternCount(Text, Pattern)\n",
    "        maxCount ← maximum value in array Count\n",
    "        for i ← 0 to |Text| − k\n",
    "            if Count(i) = maxCount\n",
    "                add Text(i, k) to FrequentPatterns\n",
    "        remove duplicates from FrequentPatterns\n",
    "        return FrequentPatterns"
   ]
  },
  {
   "cell_type": "code",
   "execution_count": 5,
   "metadata": {
    "collapsed": true
   },
   "outputs": [],
   "source": [
    "def FrequentWords(Text,k):\n",
    "    FrequentPatterns=[]\n",
    "    Count={}\n",
    "    for i in range(0,len(Text)-k+1):\n",
    "        Pattern = Text[i:i+k]\n",
    "        Count[i]= PatternCount(Text,Pattern)\n",
    "    maxCount = max(Count.values())\n",
    "    for i in Count:\n",
    "        if(Count[i]==maxCount):\n",
    "            FrequentPatterns.append(Text[i:i+k])\n",
    "    FrequentPatterns=list(dict.fromkeys(FrequentPatterns))\n",
    "    return FrequentPatterns\n"
   ]
  },
  {
   "cell_type": "code",
   "execution_count": 6,
   "metadata": {},
   "outputs": [
    {
     "data": {
      "text/plain": [
       "['GCAT', 'CATG']"
      ]
     },
     "execution_count": 6,
     "metadata": {},
     "output_type": "execute_result"
    }
   ],
   "source": [
    "# Example\n",
    "text = 'ACGTTGCATGTCGCATGATGCATGAGAGCT'\n",
    "k = 4\n",
    "FrequentWords(text,k)"
   ]
  },
  {
   "cell_type": "markdown",
   "metadata": {},
   "source": [
    "## Reverse Complement Problem"
   ]
  },
  {
   "cell_type": "markdown",
   "metadata": {},
   "source": [
    "<b>Reverse Complement Problem:</b> Find the reverse complement of a DNA string.<br/>\n",
    "\n",
    "<b>Input:</b> A DNA string Pattern.<br/>\n",
    "<b>Output:</b> Patternrc , the reverse complement of Pattern.<br/>"
   ]
  },
  {
   "cell_type": "code",
   "execution_count": 7,
   "metadata": {
    "collapsed": true
   },
   "outputs": [],
   "source": [
    "def ReverseComplement(Pattern):\n",
    "    word = []\n",
    "    for i in range (len(Pattern)):\n",
    "        if(Pattern[i]=='A'):\n",
    "            word.append('T')\n",
    "        elif (Pattern[i]=='T'):\n",
    "            word.append('A')\n",
    "        elif (Pattern[i]=='C'):\n",
    "            word.append('G')\n",
    "        elif (Pattern[i]=='G'):\n",
    "            word.append('C')\n",
    "        else: \n",
    "            word.append(Pattern[i])\n",
    "    word.reverse()\n",
    "    return ''.join(word)"
   ]
  },
  {
   "cell_type": "code",
   "execution_count": 8,
   "metadata": {},
   "outputs": [
    {
     "data": {
      "text/plain": [
       "'ACCGGGTTTT'"
      ]
     },
     "execution_count": 8,
     "metadata": {},
     "output_type": "execute_result"
    }
   ],
   "source": [
    "# Example\n",
    "Pattern = 'AAAACCCGGT'\n",
    "ReverseComplement(Pattern)"
   ]
  },
  {
   "cell_type": "markdown",
   "metadata": {},
   "source": [
    "## Pattern Matching Problem"
   ]
  },
  {
   "cell_type": "markdown",
   "metadata": {},
   "source": [
    "<b>Code Challenge:</b> Solve the Pattern Matching Problem.<br/>\n",
    "\n",
    "<b>Input:</b> Two strings, Pattern and Genome.<br/>\n",
    "<b>Output:</b> A collection of space-separated integers specifying all starting positions where Pattern appears as a substring of Genome.<br/>"
   ]
  },
  {
   "cell_type": "code",
   "execution_count": 9,
   "metadata": {
    "collapsed": true
   },
   "outputs": [],
   "source": [
    "# fill in your PatternMatching() function along with any subroutines that you need.\n",
    "def PatternMatching(Pattern, Genome):\n",
    "    position = []\n",
    "    for i in range (len(Genome)):\n",
    "        if Genome [i:i+len(Pattern)]==Pattern:\n",
    "            position.append(i)\n",
    "    return position\n"
   ]
  },
  {
   "cell_type": "code",
   "execution_count": 10,
   "metadata": {},
   "outputs": [
    {
     "data": {
      "text/plain": [
       "[1, 3, 9]"
      ]
     },
     "execution_count": 10,
     "metadata": {},
     "output_type": "execute_result"
    }
   ],
   "source": [
    "#Example\n",
    "Pattern = 'ATAT'\n",
    "Genome = 'GATATATGCATATACTT'\n",
    "PatternMatching(Pattern, Genome)"
   ]
  },
  {
   "cell_type": "markdown",
   "metadata": {},
   "source": [
    "## PatternToNumber"
   ]
  },
  {
   "cell_type": "markdown",
   "metadata": {},
   "source": [
    "<b>Code Challenge:</b> Implement PatternToNumber.<br/>\n",
    "<b>Input:</b> A DNA string Pattern.<br/>\n",
    "<b>Output:</b> The integer PatternToNumber(Pattern).<br/>"
   ]
  },
  {
   "cell_type": "markdown",
   "metadata": {},
   "source": [
    "     PatternToNumber(Pattern)\n",
    "            if Pattern contains no symbols\n",
    "                return 0\n",
    "            symbol ← LastSymbol(Pattern)\n",
    "            Prefix ← Prefix(Pattern)\n",
    "            return 4 · PatternToNumber(Prefix) + SymbolToNumber(symbol)"
   ]
  },
  {
   "cell_type": "code",
   "execution_count": 11,
   "metadata": {
    "collapsed": true
   },
   "outputs": [],
   "source": [
    "def SymbolToNumber(symbol):\n",
    "    return {\n",
    "        'A':0,\n",
    "        'C':1,\n",
    "        'G':2,\n",
    "        'T':3\n",
    "    }[symbol]"
   ]
  },
  {
   "cell_type": "code",
   "execution_count": 12,
   "metadata": {
    "collapsed": true
   },
   "outputs": [],
   "source": [
    "#PatternToNumber(Pattern)\n",
    "def PatternToNumber(Pattern):\n",
    "    if Pattern == \"\":\n",
    "        return 0\n",
    "    symbol = Pattern[len(Pattern)-1]\n",
    "    prefix = Pattern[0:len(Pattern)-1]\n",
    "    return 4*PatternToNumber(prefix) + SymbolToNumber(symbol)"
   ]
  },
  {
   "cell_type": "code",
   "execution_count": 13,
   "metadata": {},
   "outputs": [
    {
     "data": {
      "text/plain": [
       "11"
      ]
     },
     "execution_count": 13,
     "metadata": {},
     "output_type": "execute_result"
    }
   ],
   "source": [
    "#Example\n",
    "pattern = 'AGT'\n",
    "PatternToNumber(pattern)"
   ]
  },
  {
   "cell_type": "markdown",
   "metadata": {},
   "source": [
    "## NumberToPattern"
   ]
  },
  {
   "cell_type": "markdown",
   "metadata": {},
   "source": [
    "<b>Code Challenge:</b> Implement NumberToPattern.<br/>\n",
    "<b>Input:</b> Integers index and k.<br/>\n",
    "<b>Output:</b> The string NumberToPattern(index, k).<br/>"
   ]
  },
  {
   "cell_type": "markdown",
   "metadata": {},
   "source": [
    "       NumberToPattern(index, k)\n",
    "            if k = 1\n",
    "                return NumberToSymbol(index)\n",
    "            prefixIndex ← Quotient(index, 4)\n",
    "            r ← Remainder(index, 4)\n",
    "            symbol ← NumberToSymbol(r)\n",
    "            PrefixPattern ← NumberToPattern(prefixIndex, k − 1)\n",
    "            return concatenation of PrefixPattern with symbol"
   ]
  },
  {
   "cell_type": "code",
   "execution_count": 14,
   "metadata": {
    "collapsed": true
   },
   "outputs": [],
   "source": [
    "def NumberToSymbol(index):\n",
    "    return {\n",
    "        0:'A',\n",
    "        1:'C',\n",
    "        2:'G',\n",
    "        3:'T'        \n",
    "    }[index]"
   ]
  },
  {
   "cell_type": "code",
   "execution_count": 15,
   "metadata": {
    "collapsed": true
   },
   "outputs": [],
   "source": [
    "#NumberToPattern(index, k)\n",
    "def NumberToPattern(index,k):\n",
    "    if (k==1):\n",
    "        return NumberToSymbol(index)\n",
    "    prefixIndex,r = divmod(index,4)\n",
    "    prefix = NumberToPattern(prefixIndex,k-1)\n",
    "    symbol = NumberToSymbol(r)\n",
    "    return prefix+symbol"
   ]
  },
  {
   "cell_type": "code",
   "execution_count": 16,
   "metadata": {},
   "outputs": [
    {
     "data": {
      "text/plain": [
       "'AGAGGTAC'"
      ]
     },
     "execution_count": 16,
     "metadata": {},
     "output_type": "execute_result"
    }
   ],
   "source": [
    "#Example\n",
    "NumberToPattern(8881,8)"
   ]
  },
  {
   "cell_type": "code",
   "execution_count": 17,
   "metadata": {},
   "outputs": [
    {
     "data": {
      "text/plain": [
       "'CCCATTC'"
      ]
     },
     "execution_count": 17,
     "metadata": {},
     "output_type": "execute_result"
    }
   ],
   "source": [
    "#exercise\n",
    "NumberToPattern(5437, 7)"
   ]
  },
  {
   "cell_type": "markdown",
   "metadata": {},
   "source": [
    "## Computing Frequencies"
   ]
  },
  {
   "cell_type": "markdown",
   "metadata": {},
   "source": [
    "<b>Code Challenge:</b> Implement ComputingFrequencies to generate a frequency array.<br/>\n",
    "<b>Input:</b> A DNA string Text followed by an integer k.<br/>\n",
    "<b>Output:</b> FrequencyArray(Text)<br/>"
   ]
  },
  {
   "cell_type": "markdown",
   "metadata": {},
   "source": [
    "       ComputingFrequencies(Text, k)\n",
    "            for i ← 0 to 4k − 1\n",
    "                FrequencyArray(i) ← 0\n",
    "            for i ← 0 to |Text| − k\n",
    "                Pattern ← Text(i, k)\n",
    "                j ← PatternToNumber(Pattern)\n",
    "                FrequencyArray(j) ← FrequencyArray(j) + 1\n",
    "            return FrequencyArray"
   ]
  },
  {
   "cell_type": "code",
   "execution_count": 18,
   "metadata": {},
   "outputs": [
    {
     "data": {
      "text/plain": [
       "'ACCCATTC'"
      ]
     },
     "execution_count": 18,
     "metadata": {},
     "output_type": "execute_result"
    }
   ],
   "source": [
    "#Exercise \n",
    "NumberToPattern(5437, 8)"
   ]
  },
  {
   "cell_type": "code",
   "execution_count": 19,
   "metadata": {
    "collapsed": true
   },
   "outputs": [],
   "source": [
    "def ComputingFrequencies(text,k):\n",
    "    Freq =[0]*(4**k)\n",
    "    for i in range (0,len(text)-k+1):\n",
    "        Pattern = text[i:i+k]\n",
    "        j = PatternToNumber(Pattern)\n",
    "        Freq[j]=Freq[j]+1\n",
    "    return Freq\n"
   ]
  },
  {
   "cell_type": "code",
   "execution_count": 20,
   "metadata": {},
   "outputs": [
    {
     "data": {
      "text/plain": [
       "[2, 1, 0, 0, 0, 0, 2, 2, 1, 2, 1, 0, 0, 1, 1, 0]"
      ]
     },
     "execution_count": 20,
     "metadata": {},
     "output_type": "execute_result"
    }
   ],
   "source": [
    "#Sample Input:\n",
    "Text = 'ACGCGGCTCTGAAA'\n",
    "k = 2\n",
    "ComputingFrequencies(Text,k)"
   ]
  },
  {
   "cell_type": "markdown",
   "metadata": {},
   "source": [
    "## Clump Finding Problem"
   ]
  },
  {
   "cell_type": "markdown",
   "metadata": {},
   "source": [
    "<b>Code Challenge:</b> Solve the Clump Finding Problem (restated below). You will need to make sure that your algorithm is efficient enough to handle a large dataset.<br/>\n",
    "<b>Input:</b> A string Genome, and integers k, L, and t.<br/>\n",
    "<b>Output:</b> All distinct k-mers forming (L, t)-clumps in Genome<br/>"
   ]
  },
  {
   "cell_type": "markdown",
   "metadata": {},
   "source": [
    "    ClumpFinding(Genome,k,L,t)\n",
    "        for i ← 0 to |Genome| - L\n",
    "            count ← 0 for all kmers in Genome(i,L)\n",
    "            for j ← 0 to L - k\n",
    "                kmer = Genome(i+j,L)\n",
    "                count(kmer) = count(kmer) + 1\n",
    "            for all kmers in count\n",
    "                if count(kmer) >= t and kmer has not been outputted\n",
    "                output kmer"
   ]
  },
  {
   "cell_type": "code",
   "execution_count": 21,
   "metadata": {
    "collapsed": true
   },
   "outputs": [],
   "source": [
    "def ClumpFinding(Genome, k, L, t ):\n",
    "    out = []\n",
    "    for i in range(len(Genome)-L+1):\n",
    "        w = Genome[i:i+L]\n",
    "        counts = {}\n",
    "        for j in range(len(w)-k+1):\n",
    "            if w[j:j+k] not in counts:\n",
    "                counts[w[j:j+k]] = 0\n",
    "            counts[w[j:j+k]] += 1\n",
    "        for kmer in counts:\n",
    "            if counts[kmer] >= t and kmer not in out:\n",
    "                out.append(kmer)\n",
    "    return out"
   ]
  },
  {
   "cell_type": "code",
   "execution_count": 22,
   "metadata": {},
   "outputs": [
    {
     "data": {
      "text/plain": [
       "['CGACA', 'GAAGA']"
      ]
     },
     "execution_count": 22,
     "metadata": {},
     "output_type": "execute_result"
    }
   ],
   "source": [
    "Genome = 'CGGACTCGACAGATGTGAAGAACGACAATGTGAAGACTCGACACGACAGAGTGAAGAGAAGAGGAAACATTGTAA'\n",
    "k = 5\n",
    "L = 50\n",
    "t = 4\n",
    "ClumpFinding(Genome, k, L, t)"
   ]
  },
  {
   "cell_type": "code",
   "execution_count": 23,
   "metadata": {},
   "outputs": [],
   "source": [
    "#Exercicio   \n",
    "Genome = 'TCTGTTCATGGTTTCTTGACGCGTCCTGTATACTGACACCTGAGGCTATTATAGACTTGGTGCCCTACTCTTAAAATAGTTGAGCAACTTAATTGTTGTGCAAAATCAATAGCAGATTCTGACAACTTCCACTTCCACTTCCAACTTCCACGCCTCGTTTACCCATGTGGCAGTATAAAACAAATGCAATCCGCACACCCGCGCGCGCCGCCGGCAAGTAAGTAAGTTTAGGTCAACCAAGGGGAGCTGGGAATAGCTGGAGCTGGGAATTTTCTACAGCCGAGGTCCTAGTAATGCTTTGATACTGGACTTGTGCGGATTGCATCAACTACACGAATCGAGCCCTCTGGGTGCGTAACTTGCCGGATTGACGGCTTATTACCGATGTAAAGTTAAACGCTAGAAAGGAGGATAGTTCCCGTCCAGACTCTTTTGTTACGCGGAATCCTAGGAACTAGACAGAGGCCGCGATCAGGATTAAAGAGCCGCGATTCGGACCAAGTATGTTAGATAGATTTTTACAGACCCTTGTAGCGCCCAGGCACAGCGTTACGACTTTCCAGTAATCGATGCAACTGATGGCTTTGGCGGTCTAGGAGACTGCCGTTTGGCGGTGCGCTCCTCGAACGCAGTGTGTTCTCGTTAGGCGCCAAATTTTCAAATGGCGCCAAATTTTGCACCTTCTAGCCCTTCCTCATATAGGTACGCAGCTGGACTCAAATCGCGTTCCCACGCTATGGTACGAAACAAGGCCTCCAACCAGTGCTAACCTACACTTTAGGAACAACTCCCAGGTGCGGGACTATGCTGTTCCAGACGTGTTTTAAACTTCAATTTTGCATAATCGAGAGTTATTACCGTACGAGGCTACGCTACCTTCTTGGTCTGTCCTAGTATGTTCTCCGGAGCTGAGAACGTTAAAACTCGCCTTTACACAGCGCTAGTGCACGATTATACCAGCTGTAGATTTAGCTGTAGATGATCAAAAAATCCGGGCTTACCAGATGATCTGCTTGTACTTACTCAATTCGTCTTTAACCCGCATCACGGAACTGAATTACCAACTGCCACTAGGTTTCACAACTCCACTCTTCACAACTCACTTTGAGCCAACTTAGTATACTAGTGCCGCAGGACAAATGATGGAGTGGGCAGGTGGGGCCTTCGGACCTTCGGACTTCGGACCTCGTAGCCTTTTATGTGATTTGTGGTTGGCACCGCGAGCTCCCGACGACCGACGGCACAGCGACCCACCCTAGGAACTAGCCCGCGGACGATGATGACTAAAGACTGTGACCGACACCTACTCAGTTGCTCCTTGTGAACATTCAGTGGTACCTTGTTGTGATGGTCCTGATTTGGGCAGAGAACTTTCAGGGAACACTGGTCACTTTGGCGAATAACGCGTCGATCAGAAAGTGGTTGTGGTTGTTTGTTGTGTCTTGATCATCATGCTTTCCACATCCAAGCAAATTTTGGGGCTGTGTGGAGGCCCGGCCTGATGGGGGGGACCCCAAGACCCGTGGGTGTGAAGACATTTTTTATGAGGGCTCAATGAGTCCGTTGTGGCATATTCGTCGAACGCCACGTCACCCTCGCCGTGTCCACAGTCGTTATCGCCTTTACCTTTACTACTCTTTACTACTAGTGCACTCGGTCGTTACGCGTCCGGTTTCACACATGAGATAAACTGGACACAGAGCCTGTGGTGCGCCCCCCCCGGCTCCCCCGGCTCCCCCTTCACATCGTTATATCAGAAGGGGAAACCGTTATCGAATGTAATCGAATGTAATCGAATGTAATCGAATGTAATCGATCGAATGTATGTATA'\n",
    "k=10\n",
    "L=26\n",
    "t=4\n",
    "a = ClumpFinding(Genome, k, L, t)\n",
    "a = pd.DataFrame(a)\n",
    "a.to_csv(r'Clump_resp.txt', header=None, index=None, sep=' ', mode='a')"
   ]
  }
 ],
 "metadata": {
  "kernelspec": {
   "display_name": "Python 3",
   "language": "python",
   "name": "python3"
  },
  "language_info": {
   "codemirror_mode": {
    "name": "ipython",
    "version": 3
   },
   "file_extension": ".py",
   "mimetype": "text/x-python",
   "name": "python",
   "nbconvert_exporter": "python",
   "pygments_lexer": "ipython3",
   "version": "3.6.3"
  }
 },
 "nbformat": 4,
 "nbformat_minor": 2
}
